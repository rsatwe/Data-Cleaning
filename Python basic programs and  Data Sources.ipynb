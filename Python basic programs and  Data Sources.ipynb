{
 "cells": [
  {
   "cell_type": "markdown",
   "id": "4aa563c1",
   "metadata": {},
   "source": [
    "# In Python, there are several built-in data types that are commonly used:\n",
    "\n",
    "\n",
    "\n",
    "\n",
    "\n",
    "\n",
    "\n",
    "\n",
    "\n",
    "\n",
    "\n",
    "## Integer (int): Represents whole numbers, both positive and negative, without any decimal point.\n",
    "\n",
    "## Float (float): Represents floating-point numbers, which are numbers with a decimal point or in exponential form.\n",
    "\n",
    "## String (str): Represents sequences of characters, enclosed within single (' '), double (\" \"), or triple (''' ''' or \"\"\" \"\"\") quotes.\n",
    "\n",
    "## Boolean (bool): Represents one of two possible values: True or False. It is often used in conditional expressions and logical operations.\n",
    "\n",
    "## List (list): Represents an ordered collection of elements, which can be of different types and can be modified (mutable). Lists are created using square brackets [ ].\n",
    "\n",
    "## Tuple (tuple): Similar to lists, but they are immutable, meaning their elements cannot be modified after creation. Tuples are created using parentheses ( ).\n",
    "\n",
    "## Dictionary (dict): Represents an unordered collection of key-value pairs, where each key is unique and mapped to a value. Dictionaries are created using curly braces { }, with key-value pairs separated by colons (:).\n",
    "\n",
    "## Set (set): Represents an unordered collection of unique elements. Sets are created using curly braces { } or the set() function."
   ]
  },
  {
   "cell_type": "code",
   "execution_count": null,
   "id": "356ec24a",
   "metadata": {},
   "outputs": [],
   "source": []
  },
  {
   "cell_type": "code",
   "execution_count": null,
   "id": "b26ce33c",
   "metadata": {},
   "outputs": [],
   "source": []
  },
  {
   "cell_type": "markdown",
   "id": "c04f447a",
   "metadata": {},
   "source": [
    "# List"
   ]
  },
  {
   "cell_type": "markdown",
   "id": "b0493718",
   "metadata": {},
   "source": [
    "List (list): Represents an ordered collection of elements, which can be of different types and can be modified (mutable). Lists are created using square brackets [ ]."
   ]
  },
  {
   "cell_type": "code",
   "execution_count": 4,
   "id": "34f57480",
   "metadata": {},
   "outputs": [],
   "source": [
    "kk=[2,33,44,55,67,\"hh\",67]"
   ]
  },
  {
   "cell_type": "code",
   "execution_count": 5,
   "id": "af4df6ae",
   "metadata": {},
   "outputs": [
    {
     "data": {
      "text/plain": [
       "list"
      ]
     },
     "execution_count": 5,
     "metadata": {},
     "output_type": "execute_result"
    }
   ],
   "source": [
    "type(kk)"
   ]
  },
  {
   "cell_type": "code",
   "execution_count": 6,
   "id": "e472a020",
   "metadata": {},
   "outputs": [
    {
     "data": {
      "text/plain": [
       "[2, 33, 44, 55, 67, 'hh', 67]"
      ]
     },
     "execution_count": 6,
     "metadata": {},
     "output_type": "execute_result"
    }
   ],
   "source": [
    "kk"
   ]
  },
  {
   "cell_type": "code",
   "execution_count": 7,
   "id": "fa1271fe",
   "metadata": {},
   "outputs": [],
   "source": [
    "data_type=type(kk)"
   ]
  },
  {
   "cell_type": "code",
   "execution_count": 8,
   "id": "d85c4e33",
   "metadata": {},
   "outputs": [
    {
     "name": "stdout",
     "output_type": "stream",
     "text": [
      "<class 'list'>\n"
     ]
    }
   ],
   "source": [
    "print(data_type)"
   ]
  },
  {
   "cell_type": "code",
   "execution_count": 9,
   "id": "e116a023",
   "metadata": {},
   "outputs": [],
   "source": [
    "kk[-1]=222222"
   ]
  },
  {
   "cell_type": "code",
   "execution_count": 12,
   "id": "ab25c9f4",
   "metadata": {},
   "outputs": [],
   "source": [
    "kk[0]=23"
   ]
  },
  {
   "cell_type": "code",
   "execution_count": 13,
   "id": "5b912d3a",
   "metadata": {},
   "outputs": [
    {
     "data": {
      "text/plain": [
       "[23, 33, 44, 55, 67, 'hh', 222222]"
      ]
     },
     "execution_count": 13,
     "metadata": {},
     "output_type": "execute_result"
    }
   ],
   "source": [
    "kk"
   ]
  },
  {
   "cell_type": "code",
   "execution_count": 15,
   "id": "5e321695",
   "metadata": {},
   "outputs": [],
   "source": [
    "kk.append(90)"
   ]
  },
  {
   "cell_type": "code",
   "execution_count": 16,
   "id": "22ada710",
   "metadata": {},
   "outputs": [
    {
     "data": {
      "text/plain": [
       "[23, 33, 44, 55, 67, 'hh', 222222, 90, 90]"
      ]
     },
     "execution_count": 16,
     "metadata": {},
     "output_type": "execute_result"
    }
   ],
   "source": [
    "kk"
   ]
  },
  {
   "cell_type": "code",
   "execution_count": 17,
   "id": "19ac6c66",
   "metadata": {},
   "outputs": [],
   "source": [
    "kk.insert(2,34)"
   ]
  },
  {
   "cell_type": "code",
   "execution_count": 18,
   "id": "61b2d2e4",
   "metadata": {},
   "outputs": [
    {
     "data": {
      "text/plain": [
       "[23, 33, 34, 44, 55, 67, 'hh', 222222, 90, 90]"
      ]
     },
     "execution_count": 18,
     "metadata": {},
     "output_type": "execute_result"
    }
   ],
   "source": [
    "kk"
   ]
  },
  {
   "cell_type": "code",
   "execution_count": 19,
   "id": "81726540",
   "metadata": {},
   "outputs": [],
   "source": [
    "kk.extend([23,67,56,78])"
   ]
  },
  {
   "cell_type": "code",
   "execution_count": 20,
   "id": "ee490f54",
   "metadata": {},
   "outputs": [
    {
     "data": {
      "text/plain": [
       "[23, 33, 34, 44, 55, 67, 'hh', 222222, 90, 90, 23, 67, 56, 78]"
      ]
     },
     "execution_count": 20,
     "metadata": {},
     "output_type": "execute_result"
    }
   ],
   "source": [
    "kk"
   ]
  },
  {
   "cell_type": "code",
   "execution_count": 21,
   "id": "c86dc8cc",
   "metadata": {},
   "outputs": [
    {
     "data": {
      "text/plain": [
       "2"
      ]
     },
     "execution_count": 21,
     "metadata": {},
     "output_type": "execute_result"
    }
   ],
   "source": [
    "kk.count(67)"
   ]
  },
  {
   "cell_type": "code",
   "execution_count": 24,
   "id": "0af8fd41",
   "metadata": {},
   "outputs": [
    {
     "data": {
      "text/plain": [
       "23"
      ]
     },
     "execution_count": 24,
     "metadata": {},
     "output_type": "execute_result"
    }
   ],
   "source": [
    "kk.pop(0)"
   ]
  },
  {
   "cell_type": "code",
   "execution_count": 25,
   "id": "0e8e5012",
   "metadata": {},
   "outputs": [
    {
     "data": {
      "text/plain": [
       "[33, 34, 44, 55, 67, 'hh', 222222, 90, 90, 23, 67, 78]"
      ]
     },
     "execution_count": 25,
     "metadata": {},
     "output_type": "execute_result"
    }
   ],
   "source": [
    "kk"
   ]
  },
  {
   "cell_type": "code",
   "execution_count": 26,
   "id": "d0e2c70e",
   "metadata": {},
   "outputs": [
    {
     "name": "stdout",
     "output_type": "stream",
     "text": [
      "[33, 34, 44, 55, 56, 78]\n"
     ]
    }
   ],
   "source": [
    "my_list = [33, 34, 44, 55, 67, 'hh', 90, 23, 67, 56, 78]\n",
    "\n",
    "# Values to remove\n",
    "values_to_remove = [67, 'hh',90,23]\n",
    "\n",
    "# Removing multiple values from the list\n",
    "for value in values_to_remove:\n",
    "    while value in my_list:\n",
    "        my_list.remove(value)\n",
    "\n",
    "print(my_list)\n"
   ]
  },
  {
   "cell_type": "code",
   "execution_count": 29,
   "id": "4c570ce4",
   "metadata": {},
   "outputs": [],
   "source": [
    "t=[99,45,44,66,77,21,1,2]"
   ]
  },
  {
   "cell_type": "code",
   "execution_count": 30,
   "id": "71b955cb",
   "metadata": {},
   "outputs": [],
   "source": [
    "t.reverse()"
   ]
  },
  {
   "cell_type": "code",
   "execution_count": 31,
   "id": "2f131a5d",
   "metadata": {},
   "outputs": [
    {
     "data": {
      "text/plain": [
       "[2, 1, 21, 77, 66, 44, 45, 99]"
      ]
     },
     "execution_count": 31,
     "metadata": {},
     "output_type": "execute_result"
    }
   ],
   "source": [
    "t"
   ]
  },
  {
   "cell_type": "code",
   "execution_count": 32,
   "id": "8eb0db6b",
   "metadata": {},
   "outputs": [],
   "source": [
    "h=[2,34,5,678,78,45,675,8965,345,3567,554]"
   ]
  },
  {
   "cell_type": "code",
   "execution_count": 33,
   "id": "a67d3241",
   "metadata": {},
   "outputs": [],
   "source": [
    "h.sort()"
   ]
  },
  {
   "cell_type": "code",
   "execution_count": 34,
   "id": "d7530e90",
   "metadata": {},
   "outputs": [
    {
     "data": {
      "text/plain": [
       "[2, 5, 34, 45, 78, 345, 554, 675, 678, 3567, 8965]"
      ]
     },
     "execution_count": 34,
     "metadata": {},
     "output_type": "execute_result"
    }
   ],
   "source": [
    "h"
   ]
  },
  {
   "cell_type": "code",
   "execution_count": 35,
   "id": "5300e018",
   "metadata": {},
   "outputs": [],
   "source": [
    "h.sort(reverse=True)"
   ]
  },
  {
   "cell_type": "code",
   "execution_count": 36,
   "id": "fb805ee9",
   "metadata": {},
   "outputs": [
    {
     "data": {
      "text/plain": [
       "[8965, 3567, 678, 675, 554, 345, 78, 45, 34, 5, 2]"
      ]
     },
     "execution_count": 36,
     "metadata": {},
     "output_type": "execute_result"
    }
   ],
   "source": [
    "h"
   ]
  },
  {
   "cell_type": "code",
   "execution_count": 37,
   "id": "41190d10",
   "metadata": {},
   "outputs": [
    {
     "name": "stdout",
     "output_type": "stream",
     "text": [
      "[0, 1, 2, 3, 4, 5, 6, 7, 8, 9, 10, 11, 12, 13, 14, 15, 16, 17, 18, 19, 20, 21, 22]\n"
     ]
    },
    {
     "data": {
      "text/plain": [
       "list"
      ]
     },
     "execution_count": 37,
     "metadata": {},
     "output_type": "execute_result"
    }
   ],
   "source": [
    "m = [i for i in range(23)]\n",
    "\n",
    "print(m)\n",
    "type(m)"
   ]
  },
  {
   "cell_type": "code",
   "execution_count": null,
   "id": "0e7e6d02",
   "metadata": {},
   "outputs": [],
   "source": []
  },
  {
   "cell_type": "markdown",
   "id": "c385d05e",
   "metadata": {},
   "source": [
    "## Dictionaries"
   ]
  },
  {
   "cell_type": "markdown",
   "id": "a2883fcd",
   "metadata": {},
   "source": [
    "#Dictionary (dict): Represents an unordered collection of key-value pairs, where each key is unique and mapped to a value. Dictionaries are created using curly braces { }, with key-value pairs separated by colons (:)."
   ]
  },
  {
   "cell_type": "code",
   "execution_count": 39,
   "id": "96416a04",
   "metadata": {},
   "outputs": [],
   "source": [
    "f={1:'TOM',2:\"SAM\", 4:34, 5:\"tt\"}"
   ]
  },
  {
   "cell_type": "code",
   "execution_count": 40,
   "id": "94807771",
   "metadata": {},
   "outputs": [
    {
     "data": {
      "text/plain": [
       "{1: 'TOM', 2: 'SAM', 4: 34, 5: 'tt'}"
      ]
     },
     "execution_count": 40,
     "metadata": {},
     "output_type": "execute_result"
    }
   ],
   "source": [
    "f"
   ]
  },
  {
   "cell_type": "code",
   "execution_count": 41,
   "id": "230e15b1",
   "metadata": {},
   "outputs": [
    {
     "data": {
      "text/plain": [
       "dict"
      ]
     },
     "execution_count": 41,
     "metadata": {},
     "output_type": "execute_result"
    }
   ],
   "source": [
    "type(f)"
   ]
  },
  {
   "cell_type": "code",
   "execution_count": 44,
   "id": "b5e0817a",
   "metadata": {},
   "outputs": [
    {
     "data": {
      "text/plain": [
       "34"
      ]
     },
     "execution_count": 44,
     "metadata": {},
     "output_type": "execute_result"
    }
   ],
   "source": [
    "f.pop(4)"
   ]
  },
  {
   "cell_type": "code",
   "execution_count": 45,
   "id": "e8768e21",
   "metadata": {},
   "outputs": [
    {
     "data": {
      "text/plain": [
       "{2: 'SAM', 5: 'tt'}"
      ]
     },
     "execution_count": 45,
     "metadata": {},
     "output_type": "execute_result"
    }
   ],
   "source": [
    "f"
   ]
  },
  {
   "cell_type": "code",
   "execution_count": null,
   "id": "61cc9061",
   "metadata": {},
   "outputs": [],
   "source": []
  },
  {
   "cell_type": "code",
   "execution_count": null,
   "id": "ebb2e0eb",
   "metadata": {},
   "outputs": [],
   "source": []
  },
  {
   "cell_type": "markdown",
   "id": "1215100e",
   "metadata": {},
   "source": [
    "## set"
   ]
  },
  {
   "cell_type": "markdown",
   "id": "0f327429",
   "metadata": {},
   "source": [
    "Set (set): Represents an unordered collection of unique elements. Sets are created using curly braces { } or the set() function."
   ]
  },
  {
   "cell_type": "code",
   "execution_count": 61,
   "id": "e32b5d12",
   "metadata": {},
   "outputs": [],
   "source": [
    "x2={1,2,3,4,55,66,\"jk\",\"dj\",1}"
   ]
  },
  {
   "cell_type": "code",
   "execution_count": 62,
   "id": "192038c5",
   "metadata": {},
   "outputs": [],
   "source": [
    "data_type=type(x2)"
   ]
  },
  {
   "cell_type": "code",
   "execution_count": 63,
   "id": "609b272b",
   "metadata": {},
   "outputs": [
    {
     "data": {
      "text/plain": [
       "{1, 2, 3, 4, 55, 66, 'dj', 'jk'}"
      ]
     },
     "execution_count": 63,
     "metadata": {},
     "output_type": "execute_result"
    }
   ],
   "source": [
    "x2"
   ]
  },
  {
   "cell_type": "code",
   "execution_count": 64,
   "id": "d4d968d8",
   "metadata": {},
   "outputs": [],
   "source": [
    "x2.add(44)"
   ]
  },
  {
   "cell_type": "code",
   "execution_count": 65,
   "id": "89aa8494",
   "metadata": {},
   "outputs": [
    {
     "data": {
      "text/plain": [
       "{1, 2, 3, 4, 44, 55, 66, 'dj', 'jk'}"
      ]
     },
     "execution_count": 65,
     "metadata": {},
     "output_type": "execute_result"
    }
   ],
   "source": [
    "x2"
   ]
  },
  {
   "cell_type": "code",
   "execution_count": 66,
   "id": "7589c6c9",
   "metadata": {},
   "outputs": [],
   "source": [
    "x2.update([111,222,'t'])"
   ]
  },
  {
   "cell_type": "code",
   "execution_count": 67,
   "id": "a5085422",
   "metadata": {},
   "outputs": [
    {
     "data": {
      "text/plain": [
       "{1, 111, 2, 222, 3, 4, 44, 55, 66, 'dj', 'jk', 't'}"
      ]
     },
     "execution_count": 67,
     "metadata": {},
     "output_type": "execute_result"
    }
   ],
   "source": [
    "x2"
   ]
  },
  {
   "cell_type": "code",
   "execution_count": 68,
   "id": "35ae65c9",
   "metadata": {},
   "outputs": [],
   "source": [
    "x2.remove(222)"
   ]
  },
  {
   "cell_type": "code",
   "execution_count": 69,
   "id": "bb92cb76",
   "metadata": {},
   "outputs": [
    {
     "data": {
      "text/plain": [
       "{1, 111, 2, 3, 4, 44, 55, 66, 'dj', 'jk', 't'}"
      ]
     },
     "execution_count": 69,
     "metadata": {},
     "output_type": "execute_result"
    }
   ],
   "source": [
    "x2"
   ]
  },
  {
   "cell_type": "code",
   "execution_count": null,
   "id": "a762d968",
   "metadata": {},
   "outputs": [],
   "source": []
  },
  {
   "cell_type": "markdown",
   "id": "bcbe6704",
   "metadata": {},
   "source": [
    "## Tuple (tuple): Similar to lists, but they are immutable, meaning their elements cannot be modified after creation. Tuples are created using parentheses ( )."
   ]
  },
  {
   "cell_type": "code",
   "execution_count": 70,
   "id": "de8c4177",
   "metadata": {},
   "outputs": [],
   "source": [
    "fruits = (\"apple\", \"banana\") \n"
   ]
  },
  {
   "cell_type": "code",
   "execution_count": 71,
   "id": "4bd5e445",
   "metadata": {},
   "outputs": [
    {
     "data": {
      "text/plain": [
       "tuple"
      ]
     },
     "execution_count": 71,
     "metadata": {},
     "output_type": "execute_result"
    }
   ],
   "source": [
    "type(fruits)"
   ]
  },
  {
   "cell_type": "code",
   "execution_count": 72,
   "id": "205a2d9b",
   "metadata": {},
   "outputs": [],
   "source": [
    "coordinates = (10, 20)  # Two numeric elements: x-coordinate and y-coordinate\n"
   ]
  },
  {
   "cell_type": "code",
   "execution_count": 73,
   "id": "d4a448eb",
   "metadata": {},
   "outputs": [
    {
     "data": {
      "text/plain": [
       "tuple"
      ]
     },
     "execution_count": 73,
     "metadata": {},
     "output_type": "execute_result"
    }
   ],
   "source": [
    "type(coordinates)"
   ]
  },
  {
   "cell_type": "code",
   "execution_count": null,
   "id": "90572f0c",
   "metadata": {},
   "outputs": [],
   "source": []
  },
  {
   "cell_type": "markdown",
   "id": "a157502f",
   "metadata": {},
   "source": [
    "# Data Frame"
   ]
  },
  {
   "cell_type": "code",
   "execution_count": 74,
   "id": "b36dd630",
   "metadata": {},
   "outputs": [],
   "source": [
    "import pandas as pd"
   ]
  },
  {
   "cell_type": "code",
   "execution_count": 75,
   "id": "b373a1e9",
   "metadata": {},
   "outputs": [],
   "source": [
    "x=[(1,'SAM',30,'22k'),(2,'TOM',34,'34k')]"
   ]
  },
  {
   "cell_type": "code",
   "execution_count": 76,
   "id": "d056449d",
   "metadata": {},
   "outputs": [],
   "source": [
    "df=pd.DataFrame(x,columns=['id','name','age','salary'])"
   ]
  },
  {
   "cell_type": "code",
   "execution_count": 77,
   "id": "3fd45e54",
   "metadata": {},
   "outputs": [
    {
     "data": {
      "text/html": [
       "<div>\n",
       "<style scoped>\n",
       "    .dataframe tbody tr th:only-of-type {\n",
       "        vertical-align: middle;\n",
       "    }\n",
       "\n",
       "    .dataframe tbody tr th {\n",
       "        vertical-align: top;\n",
       "    }\n",
       "\n",
       "    .dataframe thead th {\n",
       "        text-align: right;\n",
       "    }\n",
       "</style>\n",
       "<table border=\"1\" class=\"dataframe\">\n",
       "  <thead>\n",
       "    <tr style=\"text-align: right;\">\n",
       "      <th></th>\n",
       "      <th>id</th>\n",
       "      <th>name</th>\n",
       "      <th>age</th>\n",
       "      <th>salary</th>\n",
       "    </tr>\n",
       "  </thead>\n",
       "  <tbody>\n",
       "    <tr>\n",
       "      <th>0</th>\n",
       "      <td>1</td>\n",
       "      <td>SAM</td>\n",
       "      <td>30</td>\n",
       "      <td>22k</td>\n",
       "    </tr>\n",
       "    <tr>\n",
       "      <th>1</th>\n",
       "      <td>2</td>\n",
       "      <td>TOM</td>\n",
       "      <td>34</td>\n",
       "      <td>34k</td>\n",
       "    </tr>\n",
       "  </tbody>\n",
       "</table>\n",
       "</div>"
      ],
      "text/plain": [
       "   id name  age salary\n",
       "0   1  SAM   30    22k\n",
       "1   2  TOM   34    34k"
      ]
     },
     "execution_count": 77,
     "metadata": {},
     "output_type": "execute_result"
    }
   ],
   "source": [
    "df"
   ]
  },
  {
   "cell_type": "code",
   "execution_count": null,
   "id": "2a939076",
   "metadata": {},
   "outputs": [],
   "source": []
  },
  {
   "cell_type": "markdown",
   "id": "73d4dfed",
   "metadata": {},
   "source": [
    "# If Else Statement"
   ]
  },
  {
   "cell_type": "code",
   "execution_count": 82,
   "id": "accad031",
   "metadata": {},
   "outputs": [
    {
     "name": "stdout",
     "output_type": "stream",
     "text": [
      "age=18\n",
      "elligible for vote\n"
     ]
    }
   ],
   "source": [
    "age = int(input(\"age=\"))\n",
    "if age>=18:\n",
    "  print(\"elligible for vote\")\n",
    "else:\n",
    "  print(\"not elligible for vote\")"
   ]
  },
  {
   "cell_type": "code",
   "execution_count": 84,
   "id": "729fe3e1",
   "metadata": {},
   "outputs": [
    {
     "name": "stdout",
     "output_type": "stream",
     "text": [
      "Enter the exam score: 60\n",
      "The grade for the exam score 60.0 is: D\n"
     ]
    }
   ],
   "source": [
    "# Get the exam score from the user\n",
    "exam_score = float(input(\"Enter the exam score: \"))\n",
    "\n",
    "# Tiered grading system\n",
    "if exam_score >= 90:\n",
    "    grade = \"A\"\n",
    "elif exam_score >= 80:\n",
    "    grade = \"B\"\n",
    "elif exam_score >= 70:\n",
    "    grade = \"C\"\n",
    "elif exam_score >= 60:\n",
    "    grade = \"D\"\n",
    "else:\n",
    "    grade = \"F\"\n",
    "\n",
    "# Output the grade\n",
    "print(\"The grade for the exam score\", exam_score, \"is:\", grade)\n"
   ]
  },
  {
   "cell_type": "markdown",
   "id": "e20d1d14",
   "metadata": {},
   "source": [
    "# Nested if Statement"
   ]
  },
  {
   "cell_type": "code",
   "execution_count": 86,
   "id": "6f4946fb",
   "metadata": {},
   "outputs": [
    {
     "name": "stdout",
     "output_type": "stream",
     "text": [
      "Enter your username: ab\n",
      "Enter your password: 234\n",
      "Welcome, admin! You have full access.\n"
     ]
    }
   ],
   "source": [
    "## User authentication example\n",
    "#Nested if Statement\n",
    "username = input(\"Enter your username: \")\n",
    "password = input(\"Enter your password: \")\n",
    "\n",
    "if username == \"ab\":\n",
    "    if password == \"234\":\n",
    "        print(\"Welcome, admin! You have full access.\")\n",
    "        \n",
    "        \n",
    "    else:\n",
    "        print(\"Incorrect password.\")\n",
    "            \n",
    "else:\n",
    "    print(\"Invalid username.\")\n",
    "\n"
   ]
  },
  {
   "cell_type": "code",
   "execution_count": null,
   "id": "b8a65c0e",
   "metadata": {},
   "outputs": [],
   "source": []
  },
  {
   "cell_type": "markdown",
   "id": "ffc09248",
   "metadata": {},
   "source": [
    "## For Loop:\n",
    "\n",
    "A for loop is used when you know the number of times you want to execute a block of code. It Goes over again a sequence (such as a list, tuple, string, or range) and executes the block of code for each item in the sequence.\n",
    "\n",
    "Here's the definition of a for loop:\n",
    "\n",
    "\"A for loop is a control flow statement for specifying iteration, which allows code to be executed repeatedly.\"\n",
    "\n",
    "Here's an example of a for loop in Python:"
   ]
  },
  {
   "cell_type": "code",
   "execution_count": 87,
   "id": "d1302a16",
   "metadata": {},
   "outputs": [
    {
     "name": "stdout",
     "output_type": "stream",
     "text": [
      "apple\n",
      "banana\n",
      "cherry\n"
     ]
    }
   ],
   "source": [
    "# Iterate over a list\n",
    "fruits = [\"apple\", \"banana\", \"cherry\"]\n",
    "for fruit in fruits:\n",
    "    print(fruit)\n"
   ]
  },
  {
   "cell_type": "code",
   "execution_count": 88,
   "id": "2fc0e382",
   "metadata": {},
   "outputs": [
    {
     "name": "stdout",
     "output_type": "stream",
     "text": [
      "1\n",
      "2\n",
      "3\n",
      "4\n",
      "5\n"
     ]
    }
   ],
   "source": [
    "# Define a list\n",
    "numbers = [1, 2, 3, 4, 5]\n",
    "\n",
    "# Iterate over the list using a for loop\n",
    "for num in numbers:\n",
    "    print(num)\n"
   ]
  },
  {
   "cell_type": "code",
   "execution_count": null,
   "id": "910ed1b9",
   "metadata": {},
   "outputs": [],
   "source": []
  },
  {
   "cell_type": "markdown",
   "id": "28d58904",
   "metadata": {},
   "source": [
    "## While Loop:\n",
    "\n",
    "A while loop is used when you want to execute a block of code as long as a condition is true. \n",
    "\n",
    "Here's the definition of a while loop:\n",
    "\n",
    "\"A while loop is a control flow statement that Continuously executes a block of code as long as a specified condition is true.\"\n",
    "\n",
    "Here's an example of a while loop in Python:"
   ]
  },
  {
   "cell_type": "code",
   "execution_count": 89,
   "id": "8ff2f114",
   "metadata": {},
   "outputs": [
    {
     "name": "stdout",
     "output_type": "stream",
     "text": [
      "1\n",
      "2\n",
      "3\n",
      "4\n",
      "5\n"
     ]
    }
   ],
   "source": [
    "# While loop to print numbers from 1 to 5\n",
    "i = 1\n",
    "while i <= 5:\n",
    "    print(i)\n",
    "    i += 1\n"
   ]
  },
  {
   "cell_type": "markdown",
   "id": "708959ac",
   "metadata": {},
   "source": [
    "### In Python, data comes from various sources! Here are some common ways to access data for your Python programs:\n",
    "\n",
    "Built-in Data Types: Python offers built-in data structures like lists, tuples, dictionaries, and sets to store and organize data directly in your code. These are great for small datasets or temporary data manipulation.\n",
    "\n",
    "Files: Text files (.txt), CSV (Comma-Separated Values - .csv), Excel files (.xlsx), and JSON (JavaScript Object Notation - .json) are popular file formats for storing data. Python provides libraries like csv and json to read and write data from these files.\n",
    "\n",
    "Databases: Relational databases like MySQL, PostgreSQL, and SQLite store large datasets in a structured format with tables and relationships. Python libraries like pandas and SQLAlchemy connect to these databases and retrieve data for analysis.\n",
    "\n",
    "APIs (Application Programming Interfaces): Many websites and services offer APIs that allow programmatic access to their data. You can use Python libraries like requests or specific service libraries (e.g., Twitter API) to interact with these APIs and retrieve data in formats like JSON or XML.\n",
    "\n",
    "Web Scraping: Sometimes, data resides directly on websites. Python libraries like BeautifulSoup or Scrapy can be used to extract data from websites, although ethical considerations and website terms of service apply."
   ]
  },
  {
   "cell_type": "markdown",
   "id": "3875be8a",
   "metadata": {},
   "source": [
    "### Built-in Data Types: Python offers built-in data structures like lists, tuples, dictionaries, and sets to store and organize data directly in your code. These are great for small datasets or temporary data manipulation."
   ]
  },
  {
   "cell_type": "code",
   "execution_count": null,
   "id": "b16ae8d7",
   "metadata": {},
   "outputs": [],
   "source": []
  },
  {
   "cell_type": "markdown",
   "id": "6f737a2d",
   "metadata": {},
   "source": [
    "### Files: Text files (.txt), CSV (Comma-Separated Values - .csv), Excel files (.xlsx), and JSON (JavaScript Object Notation - .json) are popular file formats for storing data. Python provides libraries like csv and json to read and write data from these files."
   ]
  },
  {
   "cell_type": "code",
   "execution_count": null,
   "id": "ff0ecc7c",
   "metadata": {},
   "outputs": [],
   "source": []
  },
  {
   "cell_type": "markdown",
   "id": "6522d5cc",
   "metadata": {},
   "source": [
    "### Databases: Relational databases like MySQL and SQLite store large datasets in a structured format with tables and relationships. Python libraries like pandas connect to these databases and retrieve data for analysis."
   ]
  },
  {
   "cell_type": "code",
   "execution_count": null,
   "id": "4b101bbc",
   "metadata": {},
   "outputs": [],
   "source": []
  },
  {
   "cell_type": "markdown",
   "id": "670cc2cc",
   "metadata": {},
   "source": [
    "### APIs (Application Programming Interfaces): Many websites and services offer APIs that allow programmatic access to their data. You can use Python libraries like requests or specific service libraries (e.g., Twitter API) to interact with these APIs and retrieve data in formats like JSON or XML.\n",
    "\n",
    "### Web Scraping: Sometimes, data resides directly on websites. Python libraries like BeautifulSoup can be used to extract data from websites, although ethical considerations and website terms of service apply."
   ]
  },
  {
   "cell_type": "code",
   "execution_count": null,
   "id": "8c84b7b8",
   "metadata": {},
   "outputs": [],
   "source": []
  }
 ],
 "metadata": {
  "kernelspec": {
   "display_name": "Python 3 (ipykernel)",
   "language": "python",
   "name": "python3"
  },
  "language_info": {
   "codemirror_mode": {
    "name": "ipython",
    "version": 3
   },
   "file_extension": ".py",
   "mimetype": "text/x-python",
   "name": "python",
   "nbconvert_exporter": "python",
   "pygments_lexer": "ipython3",
   "version": "3.9.13"
  }
 },
 "nbformat": 4,
 "nbformat_minor": 5
}
